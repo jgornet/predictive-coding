{
 "cells": [
  {
   "cell_type": "code",
   "execution_count": null,
   "id": "cf22a396",
   "metadata": {},
   "outputs": [],
   "source": [
    "from pathlib import Path\n",
    "import os\n",
    "from glob import glob\n",
    "import re\n",
    "\n",
    "import torch\n",
    "import torch.optim\n",
    "import torch.nn.functional as F\n",
    "\n",
    "import seaborn as sns\n",
    "\n",
    "from matplotlib.lines import Line2D\n",
    "from matplotlib.patches import Patch\n",
    "import matplotlib.pyplot as plt\n",
    "import matplotlib\n",
    "\n",
    "import numpy as np\n",
    "\n",
    "from IPython.display import display, clear_output\n",
    "from PIL import Image\n",
    "from tqdm.auto import tqdm\n",
    "\n",
    "from torchvision.io import write_video\n",
    "from torchvision.transforms import ToTensor, Normalize\n",
    "\n",
    "from predictive_coding.models.models import PredictiveCoder\n",
    "from predictive_coding.dataset import EnvironmentDataset, collate_fn\n"
   ]
  },
  {
   "cell_type": "code",
   "execution_count": null,
   "id": "436c7ff0",
   "metadata": {},
   "outputs": [],
   "source": [
    "device = 'cuda:0'\n",
    "\n",
    "# Initialize the predictive coding architecture\n",
    "model = PredictiveCoder(in_channels=3, out_channels=3, layers=[2, 2, 2, 2], seq_len=10, num_skip=3)\n",
    "model = model.to(device)\n",
    "\n",
    "ckpt = torch.load('../weights/predictive_coding.ckpt', map_location=device)\n",
    "model.load_state_dict(ckpt)\n",
    "model.eval()\n",
    "clear_output()\n"
   ]
  },
  {
   "cell_type": "code",
   "execution_count": null,
   "id": "151c6546",
   "metadata": {},
   "outputs": [],
   "source": [
    "# Load the environment observations\n",
    "dataset = EnvironmentDataset(Path(\"../datasets/val-dataset\"))\n",
    "dataloader = torch.utils.data.DataLoader(\n",
    "    dataset,\n",
    "    batch_size=64,\n",
    "    shuffle=False,\n",
    "    collate_fn=collate_fn,\n",
    "    num_workers=2,\n",
    "    pin_memory=True,\n",
    ")\n"
   ]
  },
  {
   "cell_type": "code",
   "execution_count": null,
   "id": "5a3d446d",
   "metadata": {},
   "outputs": [],
   "source": [
    "# Generate the latent vectors from the predictive coding neural network\n",
    "latents = []\n",
    "positions = []\n",
    "for batch_idx, batch in enumerate(tqdm(dataloader)):\n",
    "    images, actions, states = batch\n",
    "    B, L, C, H, W = images.shape\n",
    "    images = images.to(device).reshape(B*L, C, H, W)\n",
    "    states = states.reshape(B*L, -1)\n",
    "\n",
    "    with torch.no_grad():\n",
    "        features = model.encoder(images)\n",
    "        features = [f.reshape(B, L, f.shape[1], f.shape[2], f.shape[3]) for f in features]\n",
    "        features = [attention(feature, feature, feature, model.mask)[0] for attention, feature in zip(model.attention, features)]\n",
    "        features = [f.reshape(B*L, f.shape[2], f.shape[3], f.shape[4]) for f in features]\n",
    "        codes = model.decoder.get_codes(features)\n",
    "        latents.append(codes[1].cpu())\n",
    "        positions.append(states)\n",
    "\n",
    "latents = torch.cat(latents, dim=0).cpu().numpy()\n",
    "positions = torch.cat(positions, dim=0).cpu().numpy()\n"
   ]
  },
  {
   "cell_type": "code",
   "execution_count": null,
   "id": "1de5adb0",
   "metadata": {},
   "outputs": [],
   "source": [
    "from tqdm.auto import tqdm\n",
    "\n",
    "histogram = []\n",
    "\n",
    "for idx in tqdm(range(128)):\n",
    "    quant = np.quantile(np.mean(latents, axis=(2, 3))[:, idx], 0.85)\n",
    "    units = positions[np.mean(latents, axis=(2, 3))[:, idx] > quant]\n",
    "    hist = plt.hist2d(units[:, 0].numpy(), units[:, 1].numpy(), bins=(41, 66), cmap='Blues', range=[[-22, 22], [-30, 36]])\n",
    "    xedges, yedges = hist[1:3]\n",
    "    histogram.append(hist[0])\n",
    "\n",
    "histogram = np.stack(histogram, axis=0)\n"
   ]
  },
  {
   "cell_type": "code",
   "execution_count": null,
   "id": "31b2a954",
   "metadata": {},
   "outputs": [],
   "source": [
    "from scipy.spatial import ConvexHull\n",
    "fig, axes = plt.subplots(nrows=16, ncols=8, figsize=(20, 40))\n",
    "\n",
    "for idx in range(128):\n",
    "    i, j = idx // 8, idx % 8\n",
    "    ax = axes[i, j]\n",
    "    \n",
    "    quant = np.quantile(np.mean(latents, axis=(2, 3))[:, idx], 0.9)\n",
    "    units = positions[np.mean(latents, axis=(2, 3))[:, idx] > quant]\n",
    "    cov = np.cov(units, rowvar=False)\n",
    "    mu = units.mean(axis=0).reshape(-1, 1, 1).numpy()\n",
    "    approx_areas += [np.multiply.reduce(np.sqrt(np.linalg.svd(cov)[1])) * np.pi]\n",
    "    areas += [(histogram[idx] > 0).sum()]\n",
    "    \n",
    "    grid = np.mgrid[-22:22:0.1, -30:36:0.1]\n",
    "\n",
    "    gauss = 1/(2*np.pi) * np.linalg.det(cov)**(-0.5) * np.exp(\n",
    "        -0.5 * np.einsum(\n",
    "        \"ijk,ijk->jk\",\n",
    "        (grid - mu),\n",
    "        np.einsum(\"ij,jkl\", np.linalg.inv(cov), (grid - mu))\n",
    "    ))\n",
    "\n",
    "    dalpha = 0.9\n",
    "    im = histogram[idx] > 0\n",
    "    ax.imshow(im, cmap=\"Blues\", alpha=im*dalpha, extent=[-30, 36, 22, -22])\n",
    "    thres = np.quantile(gauss, 0.8)\n",
    "    ax.imshow(gauss, cmap=\"Blues\", alpha=0.6, extent=[-30, 36, 22, -22])\n",
    "    ax.axis(\"off\")\n",
    "\n"
   ]
  },
  {
   "cell_type": "code",
   "execution_count": null,
   "id": "7955b5aa",
   "metadata": {},
   "outputs": [],
   "source": [
    "sns.displot(approx_areas, kde=True, fill=True)\n",
    "plt.xlabel(\"Area (Gaussian approximation, lattice units)\")\n"
   ]
  },
  {
   "cell_type": "code",
   "execution_count": null,
   "id": "71258e72",
   "metadata": {},
   "outputs": [],
   "source": [
    "mask = histogram.sum(axis=0) != 0\n",
    "plt.bar(np.arange(mask.sum()), np.sort((histogram[:, mask] > 0).reshape(128, -1).sum(axis=0)), width=1)\n",
    "plt.ylim([0, 128])\n",
    "plt.yticks(np.linspace(0, 128, 4).astype(np.int32))\n",
    "plt.xticks(np.linspace(0, 1381, 4).astype(np.int32))\n",
    "plt.ylabel(\"Number of\\nactive latent units\")\n",
    "plt.xlabel(\"Environment block\")\n"
   ]
  },
  {
   "cell_type": "code",
   "execution_count": null,
   "id": "9f54ff51",
   "metadata": {},
   "outputs": [],
   "source": [
    "mask = histogram.sum(axis=0) != 0\n",
    "\n",
    "plt.bar(np.arange(128), np.sort((histogram[:, mask] > 0).reshape(128, -1).sum(axis=1)), width=1)\n",
    "\n",
    "plt.ylim([200, 240])\n",
    "plt.yticks(np.linspace(200, 240, 5).astype(np.int32))\n",
    "plt.xticks(np.linspace(0, 128, 4).astype(np.int32))\n",
    "plt.ylabel(\"Number of\\nactive environment\\n blocks\")\n",
    "plt.xlabel(\"Latent unit\")\n"
   ]
  }
 ],
 "metadata": {
  "kernelspec": {
   "display_name": "Python 3 (ipykernel)",
   "language": "python",
   "name": "python3"
  },
  "language_info": {
   "codemirror_mode": {
    "name": "ipython",
    "version": 3
   },
   "file_extension": ".py",
   "mimetype": "text/x-python",
   "name": "python",
   "nbconvert_exporter": "python",
   "pygments_lexer": "ipython3",
   "version": "3.9.4"
  }
 },
 "nbformat": 4,
 "nbformat_minor": 5
}
